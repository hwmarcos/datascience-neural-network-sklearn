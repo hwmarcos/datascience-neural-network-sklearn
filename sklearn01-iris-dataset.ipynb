{
 "cells": [
  {
   "cell_type": "code",
   "execution_count": 1,
   "metadata": {
    "collapsed": true
   },
   "outputs": [],
   "source": [
    "from sklearn import datasets"
   ]
  },
  {
   "cell_type": "code",
   "execution_count": 8,
   "metadata": {
    "collapsed": true
   },
   "outputs": [],
   "source": [
    "iris = datasets.load_iris()"
   ]
  },
  {
   "cell_type": "code",
   "execution_count": 12,
   "metadata": {},
   "outputs": [
    {
     "name": "stdout",
     "output_type": "stream",
     "text": [
      "['sepal length (cm)', 'sepal width (cm)', 'petal length (cm)', 'petal width (cm)']\n",
      "['setosa' 'versicolor' 'virginica']\n",
      "5\n"
     ]
    }
   ],
   "source": [
    "print(iris.feature_names)\n",
    "print(iris.target_names)\n",
    "print(len(iris))"
   ]
  },
  {
   "cell_type": "code",
   "execution_count": 20,
   "metadata": {},
   "outputs": [],
   "source": [
    "#http://scikit-learn.org/stable/modules/generated/sklearn.neural_network.MLPClassifier.html\n",
    "from sklearn.neural_network import MLPClassifier"
   ]
  },
  {
   "cell_type": "code",
   "execution_count": 21,
   "metadata": {
    "collapsed": true
   },
   "outputs": [],
   "source": [
    "#pegando os dados de entrada x e saída y\n",
    "x, y = iris.data, iris.target"
   ]
  },
  {
   "cell_type": "code",
   "execution_count": 50,
   "metadata": {},
   "outputs": [],
   "source": [
    "#criando um classificador perceptron multicamada\n",
    "#adam (default): algoritimo para otimização dos pesos da rede neural\n",
    "#alpha: evitar o \"vício da rede neural\"\n",
    "#hidden_layer_sizes: número de neuronios na camada escondida\n",
    "#random_state: geração de número aleatórios\n",
    "#learning_rate: taxa de aprendizado\n",
    "#learning_rate_init: taxa de aprendizado iniical da rede neural, só é usada com o algoritimo for adam ou sgt\n",
    "#max_iter: número máximo de interações (épocas)\n",
    "#activation: ativando a camada escondida\n",
    "mlp = MLPClassifier(\n",
    "    solver='adam', alpha=0.0001, hidden_layer_sizes=(5), random_state=1, \n",
    "    learning_rate='constant', learning_rate_init=0.01, max_iter=50, \n",
    "    activation='logistic', momentum=0.9, verbose=True, tol=0.0001\n",
    ")"
   ]
  },
  {
   "cell_type": "code",
   "execution_count": 51,
   "metadata": {},
   "outputs": [],
   "source": [
    "from sklearn.model_selection import train_test_split"
   ]
  },
  {
   "cell_type": "code",
   "execution_count": 52,
   "metadata": {},
   "outputs": [],
   "source": [
    "#70% do dataset para treino e 30% para teste\n",
    "x_treino, x_teste, y_treino, y_teste = train_test_split(x, y, test_size=0.3, random_state=1)"
   ]
  },
  {
   "cell_type": "code",
   "execution_count": 54,
   "metadata": {},
   "outputs": [
    {
     "name": "stdout",
     "output_type": "stream",
     "text": [
      "Iteration 1, loss = 1.18795672\n",
      "Iteration 2, loss = 1.17021522\n",
      "Iteration 3, loss = 1.15363403\n",
      "Iteration 4, loss = 1.13829910\n",
      "Iteration 5, loss = 1.12428364\n",
      "Iteration 6, loss = 1.11164396\n",
      "Iteration 7, loss = 1.10039467\n",
      "Iteration 8, loss = 1.09047283\n",
      "Iteration 9, loss = 1.08171414\n",
      "Iteration 10, loss = 1.07387242\n",
      "Iteration 11, loss = 1.06667804\n",
      "Iteration 12, loss = 1.05988899\n",
      "Iteration 13, loss = 1.05331480\n",
      "Iteration 14, loss = 1.04682002\n",
      "Iteration 15, loss = 1.04031678\n",
      "Iteration 16, loss = 1.03375414\n",
      "Iteration 17, loss = 1.02710779\n",
      "Iteration 18, loss = 1.02037102\n",
      "Iteration 19, loss = 1.01354723\n",
      "Iteration 20, loss = 1.00664388\n",
      "Iteration 21, loss = 0.99966771\n",
      "Iteration 22, loss = 0.99262129\n",
      "Iteration 23, loss = 0.98550097\n",
      "Iteration 24, loss = 0.97829650\n",
      "Iteration 25, loss = 0.97099204\n",
      "Iteration 26, loss = 0.96356846\n",
      "Iteration 27, loss = 0.95600640\n",
      "Iteration 28, loss = 0.94828930\n",
      "Iteration 29, loss = 0.94040578\n",
      "Iteration 30, loss = 0.93235079\n",
      "Iteration 31, loss = 0.92412534\n",
      "Iteration 32, loss = 0.91573487\n",
      "Iteration 33, loss = 0.90718673\n",
      "Iteration 34, loss = 0.89848750\n",
      "Iteration 35, loss = 0.88964087\n",
      "Iteration 36, loss = 0.88064688\n",
      "Iteration 37, loss = 0.87150251\n",
      "Iteration 38, loss = 0.86220349\n",
      "Iteration 39, loss = 0.85274653\n",
      "Iteration 40, loss = 0.84313148\n",
      "Iteration 41, loss = 0.83336289\n",
      "Iteration 42, loss = 0.82345086\n",
      "Iteration 43, loss = 0.81341118\n",
      "Iteration 44, loss = 0.80326460\n",
      "Iteration 45, loss = 0.79303566\n",
      "Iteration 46, loss = 0.78275112\n",
      "Iteration 47, loss = 0.77243830\n",
      "Iteration 48, loss = 0.76212349\n",
      "Iteration 49, loss = 0.75183046\n",
      "Iteration 50, loss = 0.74157930\n",
      "Saídas da rede:\t [0 2 2 0 2 2 2 0 0 2 2 0 2 2 2 0 2 2 0 0 2 2 2 0 2 2 0 0 2 2 2 2 2 2 2 0 2\n",
      " 0 2 2 2 0 2 2 2]\n",
      "Saídas desejadas:\t [0 1 1 0 2 1 2 0 0 2 1 0 2 1 1 0 1 1 0 0 1 1 1 0 2 1 0 0 1 2 1 2 1 2 2 0 1\n",
      " 0 1 2 2 0 2 2 1]\n",
      "SCORE:\t 60.0\n"
     ]
    },
    {
     "name": "stderr",
     "output_type": "stream",
     "text": [
      "c:\\users\\helder\\appdata\\local\\programs\\python\\python35-32\\lib\\site-packages\\sklearn\\neural_network\\multilayer_perceptron.py:564: ConvergenceWarning: Stochastic Optimizer: Maximum iterations (50) reached and the optimization hasn't converged yet.\n",
      "  % self.max_iter, ConvergenceWarning)\n"
     ]
    }
   ],
   "source": [
    "#treinando a rede neural\n",
    "mlp.fit(x_treino, y_treino)\n",
    "saidas = mlp.predict(x_teste)\n",
    "print('Saídas da rede:\\t', saidas)\n",
    "print('Saídas desejadas:\\t', y_teste)\n",
    "print('SCORE:\\t', mlp.score(x_teste, y_teste) * 100)"
   ]
  },
  {
   "cell_type": "code",
   "execution_count": null,
   "metadata": {
    "collapsed": true
   },
   "outputs": [],
   "source": []
  }
 ],
 "metadata": {
  "kernelspec": {
   "display_name": "Python 3",
   "language": "python",
   "name": "python3"
  },
  "language_info": {
   "codemirror_mode": {
    "name": "ipython",
    "version": 3
   },
   "file_extension": ".py",
   "mimetype": "text/x-python",
   "name": "python",
   "nbconvert_exporter": "python",
   "pygments_lexer": "ipython3",
   "version": "3.5.2"
  }
 },
 "nbformat": 4,
 "nbformat_minor": 2
}
